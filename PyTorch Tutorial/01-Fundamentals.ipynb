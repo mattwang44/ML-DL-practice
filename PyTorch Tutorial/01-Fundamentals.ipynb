{
 "cells": [
  {
   "cell_type": "code",
   "execution_count": 1,
   "metadata": {},
   "outputs": [],
   "source": [
    "import numpy as np\n",
    "import torch\n",
    "import pandas as pd"
   ]
  },
  {
   "cell_type": "markdown",
   "metadata": {},
   "source": [
    "## 1.1 Torch Tensors"
   ]
  },
  {
   "cell_type": "markdown",
   "metadata": {},
   "source": [
    "### 1.1.1 Transferring from an array"
   ]
  },
  {
   "cell_type": "code",
   "execution_count": 2,
   "metadata": {
    "code_folding": []
   },
   "outputs": [
    {
     "name": "stdout",
     "output_type": "stream",
     "text": [
      "array: \n",
      " [[1, 2], [3, 4]] \n",
      "\n",
      "Numpy array: \n",
      " [[1 2]\n",
      " [3 4]] \n",
      "\n",
      "Torch Tensor:  \n",
      " 1  2\n",
      " 3  4\n",
      "[torch.FloatTensor of size 2x2]\n",
      " \n",
      "\n"
     ]
    }
   ],
   "source": [
    "arr = [[1, 2], [3, 4]]\n",
    "print (\"array: \\n\", arr, \"\\n\")\n",
    "\n",
    "arr1 = np.array(arr)\n",
    "print(\"Numpy array: \\n\", arr1, \"\\n\")\n",
    "\n",
    "arr2 = torch.Tensor(arr)\n",
    "print(\"Torch Tensor: \", arr2, \"\\n\")"
   ]
  },
  {
   "cell_type": "markdown",
   "metadata": {},
   "source": [
    "### 1.1.2 Matrices with default values"
   ]
  },
  {
   "cell_type": "code",
   "execution_count": 3,
   "metadata": {},
   "outputs": [
    {
     "name": "stdout",
     "output_type": "stream",
     "text": [
      "Numpy array: \n",
      " [[1. 1.]\n",
      " [1. 1.]] \n",
      "\n",
      "Torch Tensor:  \n",
      " 1  1\n",
      " 1  1\n",
      "[torch.FloatTensor of size 2x2]\n",
      " \n",
      "\n"
     ]
    }
   ],
   "source": [
    "arr = np.ones((2,2))\n",
    "print (\"Numpy array: \\n\", arr, \"\\n\")\n",
    "\n",
    "arr1 = torch.ones((2,2))\n",
    "print(\"Torch Tensor: \", arr1, \"\\n\")"
   ]
  },
  {
   "cell_type": "code",
   "execution_count": 4,
   "metadata": {},
   "outputs": [
    {
     "name": "stdout",
     "output_type": "stream",
     "text": [
      "Numpy array: \n",
      " [[0. 0.]\n",
      " [0. 0.]] \n",
      "\n",
      "Torch Tensor:  \n",
      " 0  0\n",
      " 0  0\n",
      "[torch.FloatTensor of size 2x2]\n",
      " \n",
      "\n"
     ]
    }
   ],
   "source": [
    "arr = np.zeros((2,2))\n",
    "print (\"Numpy array: \\n\", arr, \"\\n\")\n",
    "\n",
    "arr1 = torch.zeros((2,2))\n",
    "print(\"Torch Tensor: \", arr1, \"\\n\")"
   ]
  },
  {
   "cell_type": "code",
   "execution_count": 5,
   "metadata": {},
   "outputs": [
    {
     "name": "stdout",
     "output_type": "stream",
     "text": [
      "Torch Tensor:  \n",
      " 1  0  0\n",
      " 0  1  0\n",
      " 0  0  1\n",
      "[torch.FloatTensor of size 3x3]\n",
      " \n",
      "\n",
      "Torch Tensor:  \n",
      " 1  0  0  0  0  0\n",
      " 0  1  0  0  0  0\n",
      " 0  0  1  0  0  0\n",
      " 0  0  0  1  0  0\n",
      "[torch.FloatTensor of size 4x6]\n",
      " \n",
      "\n"
     ]
    }
   ],
   "source": [
    "arr1 = torch.eye(3,3)\n",
    "print(\"Torch Tensor: \", arr1, \"\\n\")\n",
    "\n",
    "arr1 = torch.eye(4,6)\n",
    "print(\"Torch Tensor: \", arr1, \"\\n\")"
   ]
  },
  {
   "cell_type": "markdown",
   "metadata": {},
   "source": [
    "※ `torch.numel()` return the number of components in the matrix."
   ]
  },
  {
   "cell_type": "code",
   "execution_count": 6,
   "metadata": {},
   "outputs": [
    {
     "name": "stdout",
     "output_type": "stream",
     "text": [
      "120\n",
      "16\n"
     ]
    }
   ],
   "source": [
    "a = torch.ones(1,2,3,4,5)\n",
    "print(torch.numel(a))\n",
    "\n",
    "a = torch.zeros(4,4)\n",
    "print(torch.numel(a))"
   ]
  },
  {
   "cell_type": "markdown",
   "metadata": {},
   "source": [
    "### 1.1.3 Matrices with random values (with seeds)"
   ]
  },
  {
   "cell_type": "code",
   "execution_count": 7,
   "metadata": {},
   "outputs": [
    {
     "name": "stdout",
     "output_type": "stream",
     "text": [
      "Numpy array: \n",
      " [[0.5488135  0.71518937]\n",
      " [0.60276338 0.54488318]] \n",
      "\n",
      "Torch Tensor:  \n",
      " 0.4963  0.7682\n",
      " 0.0885  0.1320\n",
      "[torch.FloatTensor of size 2x2]\n",
      " \n",
      "\n"
     ]
    }
   ],
   "source": [
    "np.random.seed(0)\n",
    "arr = np.random.rand(2,2)\n",
    "print (\"Numpy array: \\n\", arr, \"\\n\")\n",
    "\n",
    "torch.manual_seed(0)\n",
    "arr1 = torch.rand(2, 2)\n",
    "print(\"Torch Tensor: \", arr1, \"\\n\")"
   ]
  },
  {
   "cell_type": "markdown",
   "metadata": {},
   "source": [
    "**Seeds when using GPUs**"
   ]
  },
  {
   "cell_type": "code",
   "execution_count": 8,
   "metadata": {},
   "outputs": [],
   "source": [
    "if torch.cuda.is_available():\n",
    "    torch.cuda.manual_seed_all(0)"
   ]
  },
  {
   "cell_type": "markdown",
   "metadata": {},
   "source": [
    "### 1.1.4 One-dimensional tensor"
   ]
  },
  {
   "cell_type": "code",
   "execution_count": 9,
   "metadata": {},
   "outputs": [
    {
     "data": {
      "text/plain": [
       "\n",
       "-10.0000\n",
       " -7.1429\n",
       " -4.2857\n",
       " -1.4286\n",
       "  1.4286\n",
       "  4.2857\n",
       "  7.1429\n",
       " 10.0000\n",
       "[torch.FloatTensor of size 8]"
      ]
     },
     "execution_count": 9,
     "metadata": {},
     "output_type": "execute_result"
    }
   ],
   "source": [
    "torch.linspace(start=-10, end=10, steps=8) # divided into N steps"
   ]
  },
  {
   "cell_type": "code",
   "execution_count": 10,
   "metadata": {},
   "outputs": [
    {
     "data": {
      "text/plain": [
       "\n",
       "  3\n",
       "  5\n",
       "  7\n",
       "  9\n",
       " 11\n",
       " 13\n",
       "[torch.FloatTensor of size 6]"
      ]
     },
     "execution_count": 10,
     "metadata": {},
     "output_type": "execute_result"
    }
   ],
   "source": [
    "torch.arange(3,15,2)  # Length of each steps = N"
   ]
  },
  {
   "cell_type": "markdown",
   "metadata": {},
   "source": [
    "## 1.2 Bridge between Numpy and Torch "
   ]
  },
  {
   "cell_type": "markdown",
   "metadata": {},
   "source": [
    "### 1.2.1 Numpy to Torch "
   ]
  },
  {
   "cell_type": "code",
   "execution_count": 11,
   "metadata": {},
   "outputs": [
    {
     "name": "stdout",
     "output_type": "stream",
     "text": [
      "Numpy array: \n",
      " [[3. 3.]\n",
      " [3. 3.]] \n",
      "Type:  <class 'numpy.ndarray'> \n",
      "\n",
      "Torch Tensor:  \n",
      " 3  3\n",
      " 3  3\n",
      "[torch.DoubleTensor of size 2x2]\n",
      " Type:  <class 'torch.DoubleTensor'> \n",
      "\n"
     ]
    }
   ],
   "source": [
    "np_arr = np.ones((2,2))*3\n",
    "print (\"Numpy array: \\n\", np_arr, \"\\nType: \", type(np_arr), \"\\n\")\n",
    "\n",
    "#Convert from np array\n",
    "torch_tensor = torch.from_numpy(np_arr)   \n",
    "print (\"Torch Tensor: \", torch_tensor, \"Type: \", type(torch_tensor), \"\\n\")"
   ]
  },
  {
   "cell_type": "markdown",
   "metadata": {},
   "source": [
    "### Q: What's the difference between `torch.from_numpy(np_arr)` & `torch.tensor(np_arr)`?"
   ]
  },
  {
   "cell_type": "markdown",
   "metadata": {},
   "source": [
    "** Caution: This conversion only support **`double`, `float`, `int64`, `int32`, and `uint8`"
   ]
  },
  {
   "cell_type": "code",
   "execution_count": 28,
   "metadata": {},
   "outputs": [
    {
     "ename": "RuntimeError",
     "evalue": "can't convert a given np.ndarray to a tensor - it has an invalid type. The only supported types are: double, float, int64, int32, and uint8.",
     "output_type": "error",
     "traceback": [
      "\u001b[0;31m--------------------------------------------------\u001b[0m",
      "\u001b[0;31mRuntimeError\u001b[0m     Traceback (most recent call last)",
      "\u001b[0;32m<ipython-input-28-e95578f6bb83>\u001b[0m in \u001b[0;36m<module>\u001b[0;34m()\u001b[0m\n\u001b[1;32m      1\u001b[0m \u001b[0;31m# intentional error\u001b[0m\u001b[0;34m\u001b[0m\u001b[0;34m\u001b[0m\u001b[0m\n\u001b[0;32m----> 2\u001b[0;31m \u001b[0mtorch\u001b[0m\u001b[0;34m.\u001b[0m\u001b[0mfrom_numpy\u001b[0m\u001b[0;34m(\u001b[0m\u001b[0mnp\u001b[0m\u001b[0;34m.\u001b[0m\u001b[0mones\u001b[0m\u001b[0;34m(\u001b[0m\u001b[0;34m(\u001b[0m\u001b[0;36m2\u001b[0m\u001b[0;34m,\u001b[0m\u001b[0;36m2\u001b[0m\u001b[0;34m)\u001b[0m\u001b[0;34m,\u001b[0m\u001b[0mdtype\u001b[0m\u001b[0;34m=\u001b[0m\u001b[0mnp\u001b[0m\u001b[0;34m.\u001b[0m\u001b[0mint8\u001b[0m\u001b[0;34m)\u001b[0m\u001b[0;34m)\u001b[0m\u001b[0;34m\u001b[0m\u001b[0m\n\u001b[0m",
      "\u001b[0;31mRuntimeError\u001b[0m: can't convert a given np.ndarray to a tensor - it has an invalid type. The only supported types are: double, float, int64, int32, and uint8."
     ]
    }
   ],
   "source": [
    "# intentional error\n",
    "torch.from_numpy(np.ones((2,2),dtype=np.int8))"
   ]
  },
  {
   "cell_type": "markdown",
   "metadata": {},
   "source": [
    "** Following table compares the data types before & after the conversion **"
   ]
  },
  {
   "cell_type": "code",
   "execution_count": 13,
   "metadata": {},
   "outputs": [
    {
     "data": {
      "text/html": [
       "<style  type=\"text/css\" >\n",
       "</style>  \n",
       "<table id=\"T_340a8182_221b_11e8_a253_080027094c12\" > \n",
       "<thead>    <tr> \n",
       "        <th class=\"blank level0\" ></th> \n",
       "        <th class=\"col_heading level0 col0\" >dtypes</th> \n",
       "        <th class=\"col_heading level0 col1\" >Tensor types</th> \n",
       "    </tr></thead> \n",
       "<tbody>    <tr> \n",
       "        <th id=\"T_340a8182_221b_11e8_a253_080027094c12level0_row0\" class=\"row_heading level0 row0\" >0</th> \n",
       "        <td id=\"T_340a8182_221b_11e8_a253_080027094c12row0_col0\" class=\"data row0 col0\" >uint8</td> \n",
       "        <td id=\"T_340a8182_221b_11e8_a253_080027094c12row0_col1\" class=\"data row0 col1\" >ByteTensor</td> \n",
       "    </tr>    <tr> \n",
       "        <th id=\"T_340a8182_221b_11e8_a253_080027094c12level0_row1\" class=\"row_heading level0 row1\" >1</th> \n",
       "        <td id=\"T_340a8182_221b_11e8_a253_080027094c12row1_col0\" class=\"data row1 col0\" >int32</td> \n",
       "        <td id=\"T_340a8182_221b_11e8_a253_080027094c12row1_col1\" class=\"data row1 col1\" >IntTensor</td> \n",
       "    </tr>    <tr> \n",
       "        <th id=\"T_340a8182_221b_11e8_a253_080027094c12level0_row2\" class=\"row_heading level0 row2\" >2</th> \n",
       "        <td id=\"T_340a8182_221b_11e8_a253_080027094c12row2_col0\" class=\"data row2 col0\" >int64</td> \n",
       "        <td id=\"T_340a8182_221b_11e8_a253_080027094c12row2_col1\" class=\"data row2 col1\" >LongTensor</td> \n",
       "    </tr>    <tr> \n",
       "        <th id=\"T_340a8182_221b_11e8_a253_080027094c12level0_row3\" class=\"row_heading level0 row3\" >3</th> \n",
       "        <td id=\"T_340a8182_221b_11e8_a253_080027094c12row3_col0\" class=\"data row3 col0\" >float32</td> \n",
       "        <td id=\"T_340a8182_221b_11e8_a253_080027094c12row3_col1\" class=\"data row3 col1\" >FloatTensor</td> \n",
       "    </tr>    <tr> \n",
       "        <th id=\"T_340a8182_221b_11e8_a253_080027094c12level0_row4\" class=\"row_heading level0 row4\" >4</th> \n",
       "        <td id=\"T_340a8182_221b_11e8_a253_080027094c12row4_col0\" class=\"data row4 col0\" >float</td> \n",
       "        <td id=\"T_340a8182_221b_11e8_a253_080027094c12row4_col1\" class=\"data row4 col1\" >DoubleTensor</td> \n",
       "    </tr>    <tr> \n",
       "        <th id=\"T_340a8182_221b_11e8_a253_080027094c12level0_row5\" class=\"row_heading level0 row5\" >5</th> \n",
       "        <td id=\"T_340a8182_221b_11e8_a253_080027094c12row5_col0\" class=\"data row5 col0\" >float64</td> \n",
       "        <td id=\"T_340a8182_221b_11e8_a253_080027094c12row5_col1\" class=\"data row5 col1\" >DoubleTensor</td> \n",
       "    </tr>    <tr> \n",
       "        <th id=\"T_340a8182_221b_11e8_a253_080027094c12level0_row6\" class=\"row_heading level0 row6\" >6</th> \n",
       "        <td id=\"T_340a8182_221b_11e8_a253_080027094c12row6_col0\" class=\"data row6 col0\" >float64</td> \n",
       "        <td id=\"T_340a8182_221b_11e8_a253_080027094c12row6_col1\" class=\"data row6 col1\" >DoubleTensor</td> \n",
       "    </tr></tbody> \n",
       "</table> "
      ],
      "text/plain": [
       "<pandas.io.formats.style.Styler at 0x7fcccc41cda0>"
      ]
     },
     "execution_count": 13,
     "metadata": {},
     "output_type": "execute_result"
    }
   ],
   "source": [
    "dtypes = [np.uint8, np.int32, np.int64, np.float32, np.float, np.float64, np.double, ]\n",
    "npArr_dtypes = [((dtype).__name__) for dtype in dtypes]\n",
    "tensor_list = [torch.from_numpy(np.ones((1),dtype=dtype)) for dtype in dtypes]\n",
    "tensor_types = [(type(tensor).__name__) for tensor in tensor_list]\n",
    "pd.concat([pd.DataFrame({'dtypes': npArr_dtypes}), \\\n",
    "           pd.DataFrame({'Tensor types': tensor_types})],axis=1).style"
   ]
  },
  {
   "cell_type": "markdown",
   "metadata": {},
   "source": [
    "### 1.2.2 Torch to Numpy"
   ]
  },
  {
   "cell_type": "code",
   "execution_count": 14,
   "metadata": {},
   "outputs": [
    {
     "name": "stdout",
     "output_type": "stream",
     "text": [
      "<class 'numpy.ndarray'>\n"
     ]
    }
   ],
   "source": [
    "torch_tensor = torch.ones(2,2)\n",
    "np_arr = torch_tensor.numpy()\n",
    "print(type(np_arr))"
   ]
  },
  {
   "cell_type": "markdown",
   "metadata": {},
   "source": [
    "## 1.3 Torch Tensors moving between CPU & GPU"
   ]
  },
  {
   "cell_type": "code",
   "execution_count": 15,
   "metadata": {},
   "outputs": [
    {
     "data": {
      "text/plain": [
       "\n",
       " 1  1\n",
       " 1  1\n",
       "[torch.FloatTensor of size 2x2]"
      ]
     },
     "execution_count": 15,
     "metadata": {},
     "output_type": "execute_result"
    }
   ],
   "source": [
    "tensor = torch.ones(2,2)\n",
    "\n",
    "# move to GPU\n",
    "if torch.cuda.is_available():\n",
    "    tensor.cuda() \n",
    "    \n",
    "# move back to CPU\n",
    "tensor.cpu()"
   ]
  },
  {
   "cell_type": "markdown",
   "metadata": {},
   "source": [
    "## 1.4 Tensor Operations"
   ]
  },
  {
   "cell_type": "markdown",
   "metadata": {},
   "source": [
    "### 1.4.1 Resizing & Permute"
   ]
  },
  {
   "cell_type": "code",
   "execution_count": 16,
   "metadata": {},
   "outputs": [
    {
     "name": "stdout",
     "output_type": "stream",
     "text": [
      "Size of original array:\n",
      " torch.Size([16]) \n",
      "\n"
     ]
    }
   ],
   "source": [
    "arr = torch.arange(0,16)\n",
    "print(\"Size of original array:\\n\", arr.size(), \"\\n\")"
   ]
  },
  {
   "cell_type": "code",
   "execution_count": 17,
   "metadata": {},
   "outputs": [
    {
     "name": "stdout",
     "output_type": "stream",
     "text": [
      "arr.view(-1,2,4)) = \n",
      "(0 ,.,.) = \n",
      "   0   1   2   3\n",
      "   4   5   6   7\n",
      "\n",
      "(1 ,.,.) = \n",
      "   8   9  10  11\n",
      "  12  13  14  15\n",
      "[torch.FloatTensor of size 2x2x4]\n",
      "\n",
      "torch.Size([16])\n"
     ]
    }
   ],
   "source": [
    "# view(): view the tensor in assigned shape \n",
    "print(\"arr.view(-1,2,4)) =\", arr.view(-1,2,4)) # -1 means unknown numbers\n",
    "print(arr.size())  # view() won't assign values to array"
   ]
  },
  {
   "cell_type": "code",
   "execution_count": 18,
   "metadata": {},
   "outputs": [
    {
     "name": "stdout",
     "output_type": "stream",
     "text": [
      "torch.Size([2, 2, 4])\n"
     ]
    }
   ],
   "source": [
    "arr = arr.view(-1,2,4)  # assign values to array\n",
    "print(arr.size())"
   ]
  },
  {
   "cell_type": "code",
   "execution_count": 19,
   "metadata": {},
   "outputs": [
    {
     "name": "stdout",
     "output_type": "stream",
     "text": [
      "torch.Size([2, 2, 4])\n",
      "torch.Size([2, 4, 2])\n"
     ]
    }
   ],
   "source": [
    "arr = arr.permute(0,1,2) # same sequence of dimension, won't change the array\n",
    "print(arr.size())\n",
    "arr = arr.permute(0,2,1) # change the last two dimensions\n",
    "print(arr.size())"
   ]
  },
  {
   "cell_type": "markdown",
   "metadata": {},
   "source": [
    "### 1.4.2 add, sub, mul, & div\n",
    "Only take addition as example here, other 3 operations are used in the same way."
   ]
  },
  {
   "cell_type": "code",
   "execution_count": 20,
   "metadata": {},
   "outputs": [
    {
     "name": "stdout",
     "output_type": "stream",
     "text": [
      "a = \n",
      " 1  1\n",
      " 1  1\n",
      "[torch.FloatTensor of size 2x2]\n",
      " \n",
      "b = \n",
      " 2  2\n",
      " 2  2\n",
      "[torch.FloatTensor of size 2x2]\n",
      "\n"
     ]
    }
   ],
   "source": [
    "a, b= torch.ones(2,2), torch.ones(2,2)*2\n",
    "print(\"a =\",a,\"\\nb =\",b)"
   ]
  },
  {
   "cell_type": "code",
   "execution_count": 21,
   "metadata": {},
   "outputs": [
    {
     "name": "stdout",
     "output_type": "stream",
     "text": [
      "torch.add(a,b) = \n",
      " 3  3\n",
      " 3  3\n",
      "[torch.FloatTensor of size 2x2]\n",
      "\n"
     ]
    }
   ],
   "source": [
    "# Element-wise operation\n",
    "print(\"torch.add(a,b) =\", torch.add(a,b))  #same as (a + b)"
   ]
  },
  {
   "cell_type": "markdown",
   "metadata": {},
   "source": [
    "**The difference between **`add()`** & **`add_()`** is explained here. Subtraction, multiplication, & division also have same characteristic.**"
   ]
  },
  {
   "cell_type": "code",
   "execution_count": 22,
   "metadata": {},
   "outputs": [
    {
     "name": "stdout",
     "output_type": "stream",
     "text": [
      "\n",
      " 3  3\n",
      " 3  3\n",
      "[torch.FloatTensor of size 2x2]\n",
      "\n",
      "\n",
      " 1  1\n",
      " 1  1\n",
      "[torch.FloatTensor of size 2x2]\n",
      "\n"
     ]
    }
   ],
   "source": [
    "# In-place operation (without assigning values)\n",
    "c = a.add(b)\n",
    "print(c)\n",
    "print(a) # a remained the same"
   ]
  },
  {
   "cell_type": "code",
   "execution_count": 23,
   "metadata": {},
   "outputs": [
    {
     "name": "stdout",
     "output_type": "stream",
     "text": [
      "\n",
      " 3  3\n",
      " 3  3\n",
      "[torch.FloatTensor of size 2x2]\n",
      "\n",
      "\n",
      " 3  3\n",
      " 3  3\n",
      "[torch.FloatTensor of size 2x2]\n",
      "\n"
     ]
    }
   ],
   "source": [
    "# In-place operation (with assigning values)\n",
    "c = a.add_(b)\n",
    "print(c)\n",
    "print(a) # a changed"
   ]
  },
  {
   "cell_type": "markdown",
   "metadata": {},
   "source": [
    "### 1.4.3 Mean & Standard Deviation"
   ]
  },
  {
   "cell_type": "code",
   "execution_count": 24,
   "metadata": {},
   "outputs": [
    {
     "name": "stdout",
     "output_type": "stream",
     "text": [
      "\n",
      " 3  4\n",
      " 5  6\n",
      " 7  8\n",
      "[torch.FloatTensor of size 3x2]\n",
      "\n"
     ]
    }
   ],
   "source": [
    "a = torch.arange(3,9).view(3,-1)\n",
    "print(a)"
   ]
  },
  {
   "cell_type": "code",
   "execution_count": 25,
   "metadata": {},
   "outputs": [
    {
     "data": {
      "text/plain": [
       "\n",
       " 5\n",
       " 6\n",
       "[torch.FloatTensor of size 2]"
      ]
     },
     "execution_count": 25,
     "metadata": {},
     "output_type": "execute_result"
    }
   ],
   "source": [
    "a.mean(dim=0) #mean along axis 0"
   ]
  },
  {
   "cell_type": "code",
   "execution_count": 26,
   "metadata": {},
   "outputs": [
    {
     "data": {
      "text/plain": [
       "\n",
       " 3.5000\n",
       " 5.5000\n",
       " 7.5000\n",
       "[torch.FloatTensor of size 3]"
      ]
     },
     "execution_count": 26,
     "metadata": {},
     "output_type": "execute_result"
    }
   ],
   "source": [
    "a.mean(dim=1) #mean along axis 1"
   ]
  },
  {
   "cell_type": "code",
   "execution_count": 27,
   "metadata": {},
   "outputs": [
    {
     "data": {
      "text/plain": [
       "\n",
       " 5.0498\n",
       "[torch.FloatTensor of size 1]"
      ]
     },
     "execution_count": 27,
     "metadata": {},
     "output_type": "execute_result"
    }
   ],
   "source": [
    "torch.arange(0,17).std(dim=0)"
   ]
  }
 ],
 "metadata": {
  "kernelspec": {
   "display_name": "Python 3",
   "language": "python",
   "name": "python3"
  },
  "language_info": {
   "codemirror_mode": {
    "name": "ipython",
    "version": 3
   },
   "file_extension": ".py",
   "mimetype": "text/x-python",
   "name": "python",
   "nbconvert_exporter": "python",
   "pygments_lexer": "ipython3",
   "version": "3.5.2"
  }
 },
 "nbformat": 4,
 "nbformat_minor": 2
}
